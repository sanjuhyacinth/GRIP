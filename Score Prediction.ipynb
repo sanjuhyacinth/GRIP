{
 "cells": [
  {
   "cell_type": "markdown",
   "metadata": {},
   "source": [
    "# GRIP Task #1 - Prediction of Student Percentage\n",
    "\n",
    "## Project by:       Sanju Hyacinth C\n",
    "\n"
   ]
  },
  {
   "attachments": {
    "img_sparks.png": {
     "image/png": "[encoded data removed]"
    }
   },
   "cell_type": "markdown",
   "metadata": {},
   "source": [
    "![img_sparks.png](attachment:img_sparks.png)"
   ]
  },
  {
   "cell_type": "markdown",
   "metadata": {},
   "source": [
    "## Aim \n",
    "To establish the relationship between the variables and formulate a model to predict the student scores using hours of study/day.\n",
    "\n",
    "## Dataset Outline\n",
    "We are given a student data, with two attributes for this analysis - number of hours studied as the independent variable and percentage as the dependent variable. We are asked to predict the percentage of students by analysis the patterns with the number of hours. We have to, in this case find out the **predicted score or the percentage, if a student studies for 9.25 hours per day**. \n",
    "\n",
    "## Model used\n",
    "We are using a **Supervisied Machine Learning Algorithm - Linear Regression**, for this prediction since the dependent variable is numeric in nature. And since we have just one independent variable, it is a **Simple Linear Regression model**. We will use the **scikit-learn** library in Jupyter notebook for this prediction analysis."
   ]
  },
  {
   "cell_type": "markdown",
   "metadata": {},
   "source": [
    "Let us load the _pyforest_ library just so we know we have all the needed Data Science libraries are always present in our work environment without having to remember any."
   ]
  },
  {
   "cell_type": "code",
   "execution_count": 1,
   "metadata": {},
   "outputs": [
    {
     "data": {
      "text/plain": [
       "['from sklearn.model_selection import train_test_split',\n",
       " 'from sklearn.preprocessing import OneHotEncoder',\n",
       " 'import awswrangler as wr',\n",
       " 'import plotly.express as px',\n",
       " 'import tqdm',\n",
       " 'import pydot',\n",
       " 'import sys',\n",
       " 'import re',\n",
       " 'import xgboost as xgb',\n",
       " 'import spacy',\n",
       " 'import plotly as py',\n",
       " 'import datetime as dt',\n",
       " 'import plotly.graph_objs as go',\n",
       " 'import matplotlib.pyplot as plt',\n",
       " 'import pandas as pd',\n",
       " 'from sklearn.ensemble import GradientBoostingClassifier',\n",
       " 'import seaborn as sns',\n",
       " 'import bokeh',\n",
       " 'from sklearn.ensemble import RandomForestRegressor',\n",
       " 'from sklearn.ensemble import GradientBoostingRegressor',\n",
       " 'import tensorflow as tf',\n",
       " 'import pickle',\n",
       " 'import os',\n",
       " 'from sklearn.feature_extraction.text import TfidfVectorizer',\n",
       " 'import dash',\n",
       " 'import sklearn',\n",
       " 'from sklearn.manifold import TSNE',\n",
       " 'from dask import dataframe as dd',\n",
       " 'import matplotlib as mpl',\n",
       " 'import altair as alt',\n",
       " 'from pyspark import SparkContext',\n",
       " 'from openpyxl import load_workbook',\n",
       " 'import keras',\n",
       " 'import gensim',\n",
       " 'import glob',\n",
       " 'import numpy as np',\n",
       " 'from pathlib import Path',\n",
       " 'from sklearn.ensemble import RandomForestClassifier',\n",
       " 'from sklearn import svm',\n",
       " 'import lightgbm as lgb',\n",
       " 'import statistics',\n",
       " 'import nltk']"
      ]
     },
     "execution_count": 1,
     "metadata": {},
     "output_type": "execute_result"
    }
   ],
   "source": [
    "# pip install pyforest\n",
    "# from pyforest import *\n",
    "\n",
    "lazy_imports()"
   ]
  },
  {
   "cell_type": "code",
   "execution_count": 2,
   "metadata": {},
   "outputs": [],
   "source": [
    "# Additional libraries we need for analysis:\n",
    "\n",
    "from sklearn.model_selection import train_test_split   # Subsetting data\n",
    "from sklearn.linear_model import LinearRegression      # Model building\n",
    "from sklearn import metrics                            # Model evaluation\n",
    "from sklearn.metrics import r2_score                   # model efficiency\n"
   ]
  },
  {
   "cell_type": "markdown",
   "metadata": {},
   "source": [
    "#### Let us look into the dataset we are provided with, the description of the independent and dependent (target) variables for analysis\n",
    "\n",
    "## <center>Data Description</center>\n",
    "\n",
    "<table>\n",
    "    <tr>\n",
    "        <td><b><center>Variable</center></b></td>\n",
    "        <td><b><center>Definition</center></b></td>\n",
    "    </tr>\n",
    "    <tr>\n",
    "        <td><center>Hours</center></td>\n",
    "        <td>Number of hours the student studies (Independent variable - X)<td>\n",
    "    </tr>\n",
    "    <tr>\n",
    "        <td><center>Scores</center></td>\n",
    "        <td>The percentage of the student (Target variable - y)<td>\n",
    "    </tr>\n",
    "</table>\n",
    "\n",
    "         \n",
    "## TABLE OF CONTENTS:\n",
    "\n",
    "* **A. Exploratory Data Analysis**\n",
    "     1. Data Summary (EDD) & Inference\n",
    "     2. Data Visualization: \n",
    "        _a. Distance plot & Inference_\n",
    "        _b. Scatter plot & Inference_\n",
    "        \n",
    "        \n",
    "* **B. Data Modelling**\n",
    "     1. Data Splitting\n",
    "     2. Model Creation & Interpretation\n",
    "     3. Model Prediction\n",
    "     4. Model Evaluation\n",
    "     5. Score Prediction\n"
   ]
  },
  {
   "cell_type": "markdown",
   "metadata": {},
   "source": [
    "# A. Exploratory Data Analysis\n",
    "\n",
    "Let us now get going with the student data loading and analysis. In this section, we will see a summary of the data, visualize them for insights and then consolidate our inferences from the same."
   ]
  },
  {
   "cell_type": "markdown",
   "metadata": {},
   "source": [
    "## 1. Data Summary (EDD)\n",
    "\n",
    "We will see the data loading and the data summary in this part of exploratory analysis."
   ]
  },
  {
   "cell_type": "code",
   "execution_count": 3,
   "metadata": {},
   "outputs": [
    {
     "data": {
      "application/javascript": [
       "\n",
       "        if (window._pyforest_update_imports_cell) { window._pyforest_update_imports_cell('import pandas as pd'); }\n",
       "    "
      ],
      "text/plain": [
       "<IPython.core.display.Javascript object>"
      ]
     },
     "metadata": {},
     "output_type": "display_data"
    },
    {
     "name": "stdout",
     "output_type": "stream",
     "text": [
      "Dataset loaded successfully\n"
     ]
    }
   ],
   "source": [
    "dsba1 = pd.read_csv(\"dsba_1 - Sheet1.csv\")\n",
    "print(\"Dataset loaded successfully\")"
   ]
  },
  {
   "cell_type": "code",
   "execution_count": 4,
   "metadata": {},
   "outputs": [
    {
     "name": "stdout",
     "output_type": "stream",
     "text": [
      "The top five entries of the Student Data: \n"
     ]
    },
    {
     "data": {
      "text/html": [
       "<div>\n",
       "<style scoped>\n",
       "    .dataframe tbody tr th:only-of-type {\n",
       "        vertical-align: middle;\n",
       "    }\n",
       "\n",
       "    .dataframe tbody tr th {\n",
       "        vertical-align: top;\n",
       "    }\n",
       "\n",
       "    .dataframe thead th {\n",
       "        text-align: right;\n",
       "    }\n",
       "</style>\n",
       "<table border=\"1\" class=\"dataframe\">\n",
       "  <thead>\n",
       "    <tr style=\"text-align: right;\">\n",
       "      <th></th>\n",
       "      <th>Hours</th>\n",
       "      <th>Scores</th>\n",
       "    </tr>\n",
       "  </thead>\n",
       "  <tbody>\n",
       "    <tr>\n",
       "      <th>0</th>\n",
       "      <td>2.5</td>\n",
       "      <td>21</td>\n",
       "    </tr>\n",
       "    <tr>\n",
       "      <th>1</th>\n",
       "      <td>5.1</td>\n",
       "      <td>47</td>\n",
       "    </tr>\n",
       "    <tr>\n",
       "      <th>2</th>\n",
       "      <td>3.2</td>\n",
       "      <td>27</td>\n",
       "    </tr>\n",
       "    <tr>\n",
       "      <th>3</th>\n",
       "      <td>8.5</td>\n",
       "      <td>75</td>\n",
       "    </tr>\n",
       "    <tr>\n",
       "      <th>4</th>\n",
       "      <td>3.5</td>\n",
       "      <td>30</td>\n",
       "    </tr>\n",
       "  </tbody>\n",
       "</table>\n",
       "</div>"
      ],
      "text/plain": [
       "   Hours  Scores\n",
       "0    2.5      21\n",
       "1    5.1      47\n",
       "2    3.2      27\n",
       "3    8.5      75\n",
       "4    3.5      30"
      ]
     },
     "execution_count": 4,
     "metadata": {},
     "output_type": "execute_result"
    }
   ],
   "source": [
    "print(\"The top five entries of the Student Data: \")\n",
    "dsba1.head()"
   ]
  },
  {
   "cell_type": "code",
   "execution_count": 5,
   "metadata": {},
   "outputs": [
    {
     "name": "stdout",
     "output_type": "stream",
     "text": [
      "The bottom five entries of the Student Data: \n"
     ]
    },
    {
     "data": {
      "text/html": [
       "<div>\n",
       "<style scoped>\n",
       "    .dataframe tbody tr th:only-of-type {\n",
       "        vertical-align: middle;\n",
       "    }\n",
       "\n",
       "    .dataframe tbody tr th {\n",
       "        vertical-align: top;\n",
       "    }\n",
       "\n",
       "    .dataframe thead th {\n",
       "        text-align: right;\n",
       "    }\n",
       "</style>\n",
       "<table border=\"1\" class=\"dataframe\">\n",
       "  <thead>\n",
       "    <tr style=\"text-align: right;\">\n",
       "      <th></th>\n",
       "      <th>Hours</th>\n",
       "      <th>Scores</th>\n",
       "    </tr>\n",
       "  </thead>\n",
       "  <tbody>\n",
       "    <tr>\n",
       "      <th>20</th>\n",
       "      <td>2.7</td>\n",
       "      <td>30</td>\n",
       "    </tr>\n",
       "    <tr>\n",
       "      <th>21</th>\n",
       "      <td>4.8</td>\n",
       "      <td>54</td>\n",
       "    </tr>\n",
       "    <tr>\n",
       "      <th>22</th>\n",
       "      <td>3.8</td>\n",
       "      <td>35</td>\n",
       "    </tr>\n",
       "    <tr>\n",
       "      <th>23</th>\n",
       "      <td>6.9</td>\n",
       "      <td>76</td>\n",
       "    </tr>\n",
       "    <tr>\n",
       "      <th>24</th>\n",
       "      <td>7.8</td>\n",
       "      <td>86</td>\n",
       "    </tr>\n",
       "  </tbody>\n",
       "</table>\n",
       "</div>"
      ],
      "text/plain": [
       "    Hours  Scores\n",
       "20    2.7      30\n",
       "21    4.8      54\n",
       "22    3.8      35\n",
       "23    6.9      76\n",
       "24    7.8      86"
      ]
     },
     "execution_count": 5,
     "metadata": {},
     "output_type": "execute_result"
    }
   ],
   "source": [
    "print(\"The bottom five entries of the Student Data: \")\n",
    "dsba1.tail()"
   ]
  },
  {
   "cell_type": "code",
   "execution_count": 6,
   "metadata": {},
   "outputs": [
    {
     "name": "stdout",
     "output_type": "stream",
     "text": [
      "Shape of the dataset:  (25, 2)\n",
      "The dataset has 2 attributes and 25 entries in each attribute\n"
     ]
    }
   ],
   "source": [
    "print(\"Shape of the dataset: \", dsba1.shape)\n",
    "\n",
    "print(\"The dataset has 2 attributes and 25 entries in each attribute\")"
   ]
  },
  {
   "cell_type": "code",
   "execution_count": 7,
   "metadata": {},
   "outputs": [
    {
     "name": "stdout",
     "output_type": "stream",
     "text": [
      "Column names: \n"
     ]
    },
    {
     "data": {
      "text/plain": [
       "Index(['Hours', 'Scores'], dtype='object')"
      ]
     },
     "execution_count": 7,
     "metadata": {},
     "output_type": "execute_result"
    }
   ],
   "source": [
    "# names of columns\n",
    "\n",
    "print(\"Column names: \") \n",
    "dsba1.columns"
   ]
  },
  {
   "cell_type": "code",
   "execution_count": 8,
   "metadata": {},
   "outputs": [
    {
     "name": "stdout",
     "output_type": "stream",
     "text": [
      "<class 'pandas.core.frame.DataFrame'>\n",
      "RangeIndex: 25 entries, 0 to 24\n",
      "Data columns (total 2 columns):\n",
      " #   Column  Non-Null Count  Dtype  \n",
      "---  ------  --------------  -----  \n",
      " 0   Hours   25 non-null     float64\n",
      " 1   Scores  25 non-null     int64  \n",
      "dtypes: float64(1), int64(1)\n",
      "memory usage: 528.0 bytes\n"
     ]
    }
   ],
   "source": [
    "dsba1.info()\n",
    "\n",
    "# The datatypes are float and integer for hours and scores respectively. \n",
    "# We will have to convert the datatype of scores to float since the predicted score can bear decimals"
   ]
  },
  {
   "cell_type": "code",
   "execution_count": 9,
   "metadata": {},
   "outputs": [],
   "source": [
    "# converting tagret variable to float:\n",
    "\n",
    "dsba1.Scores = dsba1.Scores.astype('float64')"
   ]
  },
  {
   "cell_type": "code",
   "execution_count": 10,
   "metadata": {},
   "outputs": [
    {
     "name": "stdout",
     "output_type": "stream",
     "text": [
      "<class 'pandas.core.frame.DataFrame'>\n",
      "RangeIndex: 25 entries, 0 to 24\n",
      "Data columns (total 2 columns):\n",
      " #   Column  Non-Null Count  Dtype  \n",
      "---  ------  --------------  -----  \n",
      " 0   Hours   25 non-null     float64\n",
      " 1   Scores  25 non-null     float64\n",
      "dtypes: float64(2)\n",
      "memory usage: 528.0 bytes\n"
     ]
    }
   ],
   "source": [
    "dsba1.info()"
   ]
  },
  {
   "cell_type": "code",
   "execution_count": 11,
   "metadata": {},
   "outputs": [
    {
     "name": "stdout",
     "output_type": "stream",
     "text": [
      "Summary of the dataset:\n"
     ]
    },
    {
     "data": {
      "text/html": [
       "<div>\n",
       "<style scoped>\n",
       "    .dataframe tbody tr th:only-of-type {\n",
       "        vertical-align: middle;\n",
       "    }\n",
       "\n",
       "    .dataframe tbody tr th {\n",
       "        vertical-align: top;\n",
       "    }\n",
       "\n",
       "    .dataframe thead th {\n",
       "        text-align: right;\n",
       "    }\n",
       "</style>\n",
       "<table border=\"1\" class=\"dataframe\">\n",
       "  <thead>\n",
       "    <tr style=\"text-align: right;\">\n",
       "      <th></th>\n",
       "      <th>Hours</th>\n",
       "      <th>Scores</th>\n",
       "    </tr>\n",
       "  </thead>\n",
       "  <tbody>\n",
       "    <tr>\n",
       "      <th>count</th>\n",
       "      <td>25.000000</td>\n",
       "      <td>25.000000</td>\n",
       "    </tr>\n",
       "    <tr>\n",
       "      <th>mean</th>\n",
       "      <td>5.012000</td>\n",
       "      <td>51.480000</td>\n",
       "    </tr>\n",
       "    <tr>\n",
       "      <th>std</th>\n",
       "      <td>2.525094</td>\n",
       "      <td>25.286887</td>\n",
       "    </tr>\n",
       "    <tr>\n",
       "      <th>min</th>\n",
       "      <td>1.100000</td>\n",
       "      <td>17.000000</td>\n",
       "    </tr>\n",
       "    <tr>\n",
       "      <th>25%</th>\n",
       "      <td>2.700000</td>\n",
       "      <td>30.000000</td>\n",
       "    </tr>\n",
       "    <tr>\n",
       "      <th>50%</th>\n",
       "      <td>4.800000</td>\n",
       "      <td>47.000000</td>\n",
       "    </tr>\n",
       "    <tr>\n",
       "      <th>75%</th>\n",
       "      <td>7.400000</td>\n",
       "      <td>75.000000</td>\n",
       "    </tr>\n",
       "    <tr>\n",
       "      <th>max</th>\n",
       "      <td>9.200000</td>\n",
       "      <td>95.000000</td>\n",
       "    </tr>\n",
       "  </tbody>\n",
       "</table>\n",
       "</div>"
      ],
      "text/plain": [
       "           Hours     Scores\n",
       "count  25.000000  25.000000\n",
       "mean    5.012000  51.480000\n",
       "std     2.525094  25.286887\n",
       "min     1.100000  17.000000\n",
       "25%     2.700000  30.000000\n",
       "50%     4.800000  47.000000\n",
       "75%     7.400000  75.000000\n",
       "max     9.200000  95.000000"
      ]
     },
     "execution_count": 11,
     "metadata": {},
     "output_type": "execute_result"
    }
   ],
   "source": [
    "print(\"Summary of the dataset:\")\n",
    "\n",
    "dsba1.describe()"
   ]
  },
  {
   "cell_type": "markdown",
   "metadata": {},
   "source": [
    "### Inference:\n",
    "\n",
    "From the summary of the attributes, we can confirm that\n",
    "\n",
    "* There are no missing values present in the dataset since the count is 25 for both attributes\n",
    "* We can say that the data does not carry many outliers because the mean and median (50%) values are not far apart"
   ]
  },
  {
   "cell_type": "markdown",
   "metadata": {},
   "source": [
    "## 2. Data Visualization \n",
    "\n",
    "In this part of the analysis, we will try to visualise the dataset using plots and graphs. We shall firstly do distribution charts and then a sctter plot to establish the relationship between the dependent and independent variables\n",
    "\n",
    "### a. Distance plot:\n",
    "\n",
    "Since being numeric data, let us first examine the distribution (histogram) of both the study hours and scores of the students separately to see the spread of the data. This will give us a picture of the spread or skewness of the variable, if there is any or help us ascertain if it is a normal distribution. We will make use of the **distplot** function from the **seaborn library** to do this. The bins are set at 20, to better understand the distribution."
   ]
  },
  {
   "cell_type": "code",
   "execution_count": 12,
   "metadata": {},
   "outputs": [
    {
     "data": {
      "application/javascript": [
       "\n",
       "        if (window._pyforest_update_imports_cell) { window._pyforest_update_imports_cell('import seaborn as sns\\nimport pandas as pd'); }\n",
       "    "
      ],
      "text/plain": [
       "<IPython.core.display.Javascript object>"
      ]
     },
     "metadata": {},
     "output_type": "display_data"
    },
    {
     "data": {
      "application/javascript": [
       "\n",
       "        if (window._pyforest_update_imports_cell) { window._pyforest_update_imports_cell('import seaborn as sns\\nimport pandas as pd'); }\n",
       "    "
      ],
      "text/plain": [
       "<IPython.core.display.Javascript object>"
      ]
     },
     "metadata": {},
     "output_type": "display_data"
    },
    {
     "data": {
      "application/javascript": [
       "\n",
       "        if (window._pyforest_update_imports_cell) { window._pyforest_update_imports_cell('import seaborn as sns\\nimport matplotlib.pyplot as plt\\nimport pandas as pd'); }\n",
       "    "
      ],
      "text/plain": [
       "<IPython.core.display.Javascript object>"
      ]
     },
     "metadata": {},
     "output_type": "display_data"
    },
    {
     "data": {
      "application/javascript": [
       "\n",
       "        if (window._pyforest_update_imports_cell) { window._pyforest_update_imports_cell('import seaborn as sns\\nimport matplotlib.pyplot as plt\\nimport pandas as pd'); }\n",
       "    "
      ],
      "text/plain": [
       "<IPython.core.display.Javascript object>"
      ]
     },
     "metadata": {},
     "output_type": "display_data"
    },
    {
     "data": {
      "application/javascript": [
       "\n",
       "        if (window._pyforest_update_imports_cell) { window._pyforest_update_imports_cell('import seaborn as sns\\nimport matplotlib.pyplot as plt\\nimport pandas as pd'); }\n",
       "    "
      ],
      "text/plain": [
       "<IPython.core.display.Javascript object>"
      ]
     },
     "metadata": {},
     "output_type": "display_data"
    },
    {
     "data": {
      "application/javascript": [
       "\n",
       "        if (window._pyforest_update_imports_cell) { window._pyforest_update_imports_cell('import seaborn as sns\\nimport matplotlib.pyplot as plt\\nimport pandas as pd'); }\n",
       "    "
      ],
      "text/plain": [
       "<IPython.core.display.Javascript object>"
      ]
     },
     "metadata": {},
     "output_type": "display_data"
    },
    {
     "data": {
      "image/png": "[encoded data removed]",
      "text/plain": [
       "<Figure size 504x432 with 1 Axes>"
      ]
     },
     "metadata": {},
     "output_type": "display_data"
    }
   ],
   "source": [
    "sns.set(style='whitegrid', palette=\"pastel\", font_scale=1.1, rc={\"figure.figsize\": [7, 6]})\n",
    "sns.distplot(dsba1['Hours'], norm_hist=False, bins=20 )\n",
    "plt.title('Distribution of Study Hours', fontsize = 15)\n",
    "plt.xlabel('Hours of study')\n",
    "plt.grid()\n",
    "plt.show()"
   ]
  },
  {
   "cell_type": "code",
   "execution_count": 13,
   "metadata": {},
   "outputs": [
    {
     "data": {
      "application/javascript": [
       "\n",
       "        if (window._pyforest_update_imports_cell) { window._pyforest_update_imports_cell('import seaborn as sns\\nimport matplotlib.pyplot as plt\\nimport pandas as pd'); }\n",
       "    "
      ],
      "text/plain": [
       "<IPython.core.display.Javascript object>"
      ]
     },
     "metadata": {},
     "output_type": "display_data"
    },
    {
     "data": {
      "application/javascript": [
       "\n",
       "        if (window._pyforest_update_imports_cell) { window._pyforest_update_imports_cell('import seaborn as sns\\nimport matplotlib.pyplot as plt\\nimport pandas as pd'); }\n",
       "    "
      ],
      "text/plain": [
       "<IPython.core.display.Javascript object>"
      ]
     },
     "metadata": {},
     "output_type": "display_data"
    },
    {
     "data": {
      "application/javascript": [
       "\n",
       "        if (window._pyforest_update_imports_cell) { window._pyforest_update_imports_cell('import seaborn as sns\\nimport matplotlib.pyplot as plt\\nimport pandas as pd'); }\n",
       "    "
      ],
      "text/plain": [
       "<IPython.core.display.Javascript object>"
      ]
     },
     "metadata": {},
     "output_type": "display_data"
    },
    {
     "data": {
      "application/javascript": [
       "\n",
       "        if (window._pyforest_update_imports_cell) { window._pyforest_update_imports_cell('import seaborn as sns\\nimport matplotlib.pyplot as plt\\nimport pandas as pd'); }\n",
       "    "
      ],
      "text/plain": [
       "<IPython.core.display.Javascript object>"
      ]
     },
     "metadata": {},
     "output_type": "display_data"
    },
    {
     "data": {
      "application/javascript": [
       "\n",
       "        if (window._pyforest_update_imports_cell) { window._pyforest_update_imports_cell('import seaborn as sns\\nimport matplotlib.pyplot as plt\\nimport pandas as pd'); }\n",
       "    "
      ],
      "text/plain": [
       "<IPython.core.display.Javascript object>"
      ]
     },
     "metadata": {},
     "output_type": "display_data"
    },
    {
     "data": {
      "application/javascript": [
       "\n",
       "        if (window._pyforest_update_imports_cell) { window._pyforest_update_imports_cell('import seaborn as sns\\nimport matplotlib.pyplot as plt\\nimport pandas as pd'); }\n",
       "    "
      ],
      "text/plain": [
       "<IPython.core.display.Javascript object>"
      ]
     },
     "metadata": {},
     "output_type": "display_data"
    },
    {
     "data": {
      "image/png": "[encoded data removed]",
      "text/plain": [
       "<Figure size 504x432 with 1 Axes>"
      ]
     },
     "metadata": {},
     "output_type": "display_data"
    }
   ],
   "source": [
    "sns.set(style='whitegrid', palette=\"pastel\", font_scale=1.1, rc={\"figure.figsize\": [7, 6]})\n",
    "sns.distplot(dsba1['Scores'], norm_hist=False, bins=20, color='pink')\n",
    "plt.title('Percentage Distribution', fontsize = 20)\n",
    "plt.xlabel('Student Scores')\n",
    "plt.grid()\n",
    "plt.show()"
   ]
  },
  {
   "cell_type": "markdown",
   "metadata": {},
   "source": [
    "### Inference:\n",
    "\n",
    "* There is no significant skewness found in the graphs\n",
    "* The highest peaks are at 2.5 hrs and close to 30% score\n",
    "* The density curves suggest that the study hours seem more consistent that the scores which seem to show a clear dip, may state that students either score low or high but not in between.\n"
   ]
  },
  {
   "cell_type": "markdown",
   "metadata": {},
   "source": [
    "### b. Scatter Plot:\n",
    "\n",
    "We are now using the scatter plot to see the extent of relationship between the two variables, since we have already found out some similarities between them. We are also going to fit a **regression line** along with the scatter plot just to see the fit.\n",
    "For this we use the **lmplot** that fits a best-fit linear regression line along with a **95% confidence interval** band that the population regression line will lie within the interval."
   ]
  },
  {
   "cell_type": "code",
   "execution_count": 14,
   "metadata": {},
   "outputs": [
    {
     "data": {
      "application/javascript": [
       "\n",
       "        if (window._pyforest_update_imports_cell) { window._pyforest_update_imports_cell('import seaborn as sns\\nimport matplotlib.pyplot as plt\\nimport pandas as pd'); }\n",
       "    "
      ],
      "text/plain": [
       "<IPython.core.display.Javascript object>"
      ]
     },
     "metadata": {},
     "output_type": "display_data"
    },
    {
     "data": {
      "application/javascript": [
       "\n",
       "        if (window._pyforest_update_imports_cell) { window._pyforest_update_imports_cell('import seaborn as sns\\nimport matplotlib.pyplot as plt\\nimport pandas as pd'); }\n",
       "    "
      ],
      "text/plain": [
       "<IPython.core.display.Javascript object>"
      ]
     },
     "metadata": {},
     "output_type": "display_data"
    },
    {
     "data": {
      "application/javascript": [
       "\n",
       "        if (window._pyforest_update_imports_cell) { window._pyforest_update_imports_cell('import seaborn as sns\\nimport matplotlib.pyplot as plt\\nimport pandas as pd'); }\n",
       "    "
      ],
      "text/plain": [
       "<IPython.core.display.Javascript object>"
      ]
     },
     "metadata": {},
     "output_type": "display_data"
    },
    {
     "data": {
      "application/javascript": [
       "\n",
       "        if (window._pyforest_update_imports_cell) { window._pyforest_update_imports_cell('import seaborn as sns\\nimport matplotlib.pyplot as plt\\nimport pandas as pd'); }\n",
       "    "
      ],
      "text/plain": [
       "<IPython.core.display.Javascript object>"
      ]
     },
     "metadata": {},
     "output_type": "display_data"
    },
    {
     "data": {
      "application/javascript": [
       "\n",
       "        if (window._pyforest_update_imports_cell) { window._pyforest_update_imports_cell('import seaborn as sns\\nimport matplotlib.pyplot as plt\\nimport pandas as pd'); }\n",
       "    "
      ],
      "text/plain": [
       "<IPython.core.display.Javascript object>"
      ]
     },
     "metadata": {},
     "output_type": "display_data"
    },
    {
     "data": {
      "application/javascript": [
       "\n",
       "        if (window._pyforest_update_imports_cell) { window._pyforest_update_imports_cell('import seaborn as sns\\nimport matplotlib.pyplot as plt\\nimport pandas as pd'); }\n",
       "    "
      ],
      "text/plain": [
       "<IPython.core.display.Javascript object>"
      ]
     },
     "metadata": {},
     "output_type": "display_data"
    },
    {
     "data": {
      "application/javascript": [
       "\n",
       "        if (window._pyforest_update_imports_cell) { window._pyforest_update_imports_cell('import seaborn as sns\\nimport matplotlib.pyplot as plt\\nimport pandas as pd'); }\n",
       "    "
      ],
      "text/plain": [
       "<IPython.core.display.Javascript object>"
      ]
     },
     "metadata": {},
     "output_type": "display_data"
    },
    {
     "data": {
      "image/png": "[encoded data removed]",
      "text/plain": [
       "<Figure size 360x360 with 1 Axes>"
      ]
     },
     "metadata": {},
     "output_type": "display_data"
    }
   ],
   "source": [
    "plt.rcParams['figure.figsize'] = (15, 5)\n",
    "sns.lmplot(x=\"Hours\", y=\"Scores\", data=dsba1)\n",
    "plt.title('Relationship between Hours and Scores', fontsize=14)  \n",
    "plt.xlabel('Hours Studied', fontsize=12)  \n",
    "plt.ylabel('Percentage', fontsize=12)\n",
    "plt.grid()\n",
    "plt.show()"
   ]
  },
  {
   "cell_type": "markdown",
   "metadata": {},
   "source": [
    "### Inference:\n",
    "\n",
    "This plot shows that there is a **direct positive relationship** between the two variables, as an increase in the independent variables (Hours) brings a significant increase in the dependent variable (Scores). This scatter plot with the regression line was used to bring in a best-fit line in an attempt to minimise errors.\n"
   ]
  },
  {
   "cell_type": "markdown",
   "metadata": {},
   "source": [
    "# B. Data Modelling\n",
    "\n",
    "We come to the next stage of the analysis, which is the data modeling. This involves the below steps:\n",
    "\n",
    "* Data Splitting\n",
    "* Model Fitting\n",
    "* Model Evaluation\n",
    "\n",
    "\n",
    "## 1. Data Splitting:\n",
    "\n",
    "We start by splitting our dataset into **train and validation data** in order to effectively train and validate the model's performance. For this we use the **train_test_split** function from the scikit-learn library. By this, we can split the data into 4 subsets: training and validation dataset with X and y separately. "
   ]
  },
  {
   "cell_type": "code",
   "execution_count": 15,
   "metadata": {},
   "outputs": [],
   "source": [
    "X = dsba1.iloc[:, :-1].values  \n",
    "y = dsba1.iloc[:, 1:].values  "
   ]
  },
  {
   "cell_type": "markdown",
   "metadata": {},
   "source": [
    "We are assigning our independent variable to X and our dependent variable to y. \n",
    "\n",
    "We are using the **index locator** function - iloc. This helps us assign the attributes using their corresponding index positions. \n",
    "\n",
    "* For X, we are taking all the rows while leaving out the last column. **:-1** means that we are taking columns from 0 through second last column that is represented as -1.\n",
    "* For y, we are simply taking only the last column (1 in this case since we have only 2 attributes) and all the rows of course.\n",
    "\n",
    "Now, we are splitting the data from X and y to training and validation sets, giving us 4 subsets. It is important to set the same **random state** to a specific number for reproduceability. We are taking 0 here and the test split as 0.25% of the data.\n"
   ]
  },
  {
   "cell_type": "code",
   "execution_count": 16,
   "metadata": {},
   "outputs": [],
   "source": [
    "# DATA SPLITTING:\n",
    "\n",
    "X_train, X_val, y_train, y_val = train_test_split(X, y, test_size=0.25, random_state=0) "
   ]
  },
  {
   "cell_type": "code",
   "execution_count": 17,
   "metadata": {},
   "outputs": [
    {
     "name": "stdout",
     "output_type": "stream",
     "text": [
      "Shape of datasets: \n"
     ]
    },
    {
     "data": {
      "text/plain": [
       "((18, 1), (7, 1), (18, 1), (7, 1))"
      ]
     },
     "execution_count": 17,
     "metadata": {},
     "output_type": "execute_result"
    }
   ],
   "source": [
    "# Shape of the split datasets:\n",
    "\n",
    "print(\"Shape of datasets: \")\n",
    "X_train.shape,  X_val.shape,  y_train.shape,  y_val.shape"
   ]
  },
  {
   "cell_type": "code",
   "execution_count": 18,
   "metadata": {},
   "outputs": [
    {
     "data": {
      "text/plain": [
       "array([[7.8],\n",
       "       [6.9],\n",
       "       [1.1],\n",
       "       [5.1],\n",
       "       [7.7],\n",
       "       [3.3],\n",
       "       [8.3],\n",
       "       [9.2],\n",
       "       [6.1],\n",
       "       [3.5],\n",
       "       [2.7],\n",
       "       [5.5],\n",
       "       [2.7],\n",
       "       [8.5],\n",
       "       [2.5],\n",
       "       [4.8],\n",
       "       [8.9],\n",
       "       [4.5]])"
      ]
     },
     "execution_count": 18,
     "metadata": {},
     "output_type": "execute_result"
    }
   ],
   "source": [
    "# Viewing X_train\n",
    "\n",
    "X_train"
   ]
  },
  {
   "cell_type": "markdown",
   "metadata": {},
   "source": [
    "Let us now train our Linear Regression Algorithm on the X_train data. Evaluate its results on the X_val and then test the same on our y_train and y_val dataset."
   ]
  },
  {
   "cell_type": "markdown",
   "metadata": {},
   "source": [
    "## 2. Model Creation: \n",
    "\n",
    "Let us import the **LinearRegression** function from the scikit-learn library to fit the linear regression model to the dataset. We are fitting the model onto the X_train and y_train dataset"
   ]
  },
  {
   "cell_type": "code",
   "execution_count": 19,
   "metadata": {},
   "outputs": [
    {
     "name": "stdout",
     "output_type": "stream",
     "text": [
      "The data training is complete\n"
     ]
    }
   ],
   "source": [
    "# LINEAR REGRESSION \n",
    "\n",
    "regr = LinearRegression()  \n",
    "\n",
    "regr.fit(X_train, y_train) \n",
    "print(\"The data training is complete\")"
   ]
  },
  {
   "cell_type": "markdown",
   "metadata": {},
   "source": [
    "Now that our model, regr is trained, let's have a quick view of the model scores, **coefficient and intercept** "
   ]
  },
  {
   "cell_type": "code",
   "execution_count": 20,
   "metadata": {},
   "outputs": [
    {
     "name": "stdout",
     "output_type": "stream",
     "text": [
      "Coefficients:  9.941678339488096\n",
      "Intercept:  1.932204253151646\n"
     ]
    }
   ],
   "source": [
    "print(\"Coefficients: \", regr.coef_[0][0])\n",
    "print(\"Intercept: \", regr.intercept_[0])"
   ]
  },
  {
   "cell_type": "markdown",
   "metadata": {},
   "source": [
    "### Model Interpretation \n",
    "\n",
    "From our model of the form **y = mX + c**,\n",
    "\n",
    "m (coefficient) = 9.9417\n",
    "\n",
    "c (intercept)   = 1.9322  \n",
    "\n",
    "Coefficient m is the effect of X on y. And intercept c is the point where the line passes through y axis when X=0. This is otherwise known as the bias component in the formula that remains a constant for the equation.\n",
    "\n",
    "An increase/decrease in 1 unit of the independent variable (hour), increases/decreases the target variable by **9.9 units**, meaning if a student increases/decreases his/her study hours by 1, his score goes up/down by 9.9% .\n"
   ]
  },
  {
   "cell_type": "markdown",
   "metadata": {},
   "source": [
    "## 3. Model Prediction:\n",
    "\n",
    "Let us test the efficiency of the model's prediction on the validation set, X_val. Upon doing so, we will also compare the results with y_val as well. For that we will plot them together to find how close the prediction has been made."
   ]
  },
  {
   "cell_type": "code",
   "execution_count": 21,
   "metadata": {},
   "outputs": [],
   "source": [
    "# predicting y for the validation set:\n",
    "\n",
    "predict_y = regr.predict(X_val)"
   ]
  },
  {
   "cell_type": "markdown",
   "metadata": {},
   "source": [
    "We are now taking a look at the **r squared value**, regression score function. This gives us a score between 0 and 1 of how strong the true y value and the predicted ones correlate. For this test, we use the **r2_score** from the **sklearn.metrics** library."
   ]
  },
  {
   "cell_type": "code",
   "execution_count": 22,
   "metadata": {},
   "outputs": [
    {
     "name": "stdout",
     "output_type": "stream",
     "text": [
      "Train score:  0.9484509249326872\n",
      "Test score:  0.9367661043365054\n"
     ]
    }
   ],
   "source": [
    "print(\"Train score: \", regr.score(X_train, y_train))\n",
    "print(\"Test score: \", regr.score(X_val, y_val))\n",
    "\n",
    "# Train = 0.95 (approx)\n",
    "# Test = 0.94 (approx)"
   ]
  },
  {
   "cell_type": "markdown",
   "metadata": {},
   "source": [
    "## 4. Model Evaluation:\n",
    "\n",
    "We are now going to evaluate the accuracy of the model by using the below model accuracy metrics\n",
    "\n",
    "* Mean Absolute Error **(MAE)**\n",
    "* Mean Squared Error **(MSE)**\n",
    "* Root Mean Squared Error **(RMSE)**"
   ]
  },
  {
   "cell_type": "code",
   "execution_count": 24,
   "metadata": {},
   "outputs": [
    {
     "name": "stdout",
     "output_type": "stream",
     "text": [
      "Mean Absolute Error: 4.130879918502486\n",
      "Mean Squared Error:  20.33292367497997\n"
     ]
    },
    {
     "data": {
      "application/javascript": [
       "\n",
       "        if (window._pyforest_update_imports_cell) { window._pyforest_update_imports_cell('import seaborn as sns\\nimport numpy as np\\nimport matplotlib.pyplot as plt\\nimport pandas as pd'); }\n",
       "    "
      ],
      "text/plain": [
       "<IPython.core.display.Javascript object>"
      ]
     },
     "metadata": {},
     "output_type": "display_data"
    },
    {
     "name": "stdout",
     "output_type": "stream",
     "text": [
      "Root Mean Squared Error:  4.5092043283688055\n"
     ]
    }
   ],
   "source": [
    "# Evaluating the accuracy using evaluation metrics:\n",
    "\n",
    "print('Mean Absolute Error:', metrics.mean_absolute_error(y_val, predict_y))\n",
    "print('Mean Squared Error: ', metrics.mean_squared_error(y_val, predict_y))\n",
    "print('Root Mean Squared Error: ', np.sqrt(metrics.mean_squared_error(y_val, predict_y)))"
   ]
  },
  {
   "cell_type": "markdown",
   "metadata": {},
   "source": [
    "Both the Mean Absolute Error and Root Mean Squared Error are almost in line, but we are choosing the MAE which has given the best result.\n",
    "\n",
    "#### Let us compare the model's prediction accuracy with the original scores of the students.\n"
   ]
  },
  {
   "cell_type": "code",
   "execution_count": 25,
   "metadata": {},
   "outputs": [
    {
     "data": {
      "application/javascript": [
       "\n",
       "        if (window._pyforest_update_imports_cell) { window._pyforest_update_imports_cell('import seaborn as sns\\nimport numpy as np\\nimport matplotlib.pyplot as plt\\nimport pandas as pd'); }\n",
       "    "
      ],
      "text/plain": [
       "<IPython.core.display.Javascript object>"
      ]
     },
     "metadata": {},
     "output_type": "display_data"
    },
    {
     "data": {
      "text/html": [
       "<div>\n",
       "<style scoped>\n",
       "    .dataframe tbody tr th:only-of-type {\n",
       "        vertical-align: middle;\n",
       "    }\n",
       "\n",
       "    .dataframe tbody tr th {\n",
       "        vertical-align: top;\n",
       "    }\n",
       "\n",
       "    .dataframe thead th {\n",
       "        text-align: right;\n",
       "    }\n",
       "</style>\n",
       "<table border=\"1\" class=\"dataframe\">\n",
       "  <thead>\n",
       "    <tr style=\"text-align: right;\">\n",
       "      <th></th>\n",
       "      <th>Actual</th>\n",
       "      <th>Predicted</th>\n",
       "    </tr>\n",
       "  </thead>\n",
       "  <tbody>\n",
       "    <tr>\n",
       "      <th>0</th>\n",
       "      <td>20.0</td>\n",
       "      <td>16.844722</td>\n",
       "    </tr>\n",
       "    <tr>\n",
       "      <th>1</th>\n",
       "      <td>27.0</td>\n",
       "      <td>33.745575</td>\n",
       "    </tr>\n",
       "    <tr>\n",
       "      <th>2</th>\n",
       "      <td>69.0</td>\n",
       "      <td>75.500624</td>\n",
       "    </tr>\n",
       "    <tr>\n",
       "      <th>3</th>\n",
       "      <td>30.0</td>\n",
       "      <td>26.786400</td>\n",
       "    </tr>\n",
       "    <tr>\n",
       "      <th>4</th>\n",
       "      <td>62.0</td>\n",
       "      <td>60.588106</td>\n",
       "    </tr>\n",
       "    <tr>\n",
       "      <th>5</th>\n",
       "      <td>35.0</td>\n",
       "      <td>39.710582</td>\n",
       "    </tr>\n",
       "    <tr>\n",
       "      <th>6</th>\n",
       "      <td>24.0</td>\n",
       "      <td>20.821393</td>\n",
       "    </tr>\n",
       "  </tbody>\n",
       "</table>\n",
       "</div>"
      ],
      "text/plain": [
       "   Actual  Predicted\n",
       "0    20.0  16.844722\n",
       "1    27.0  33.745575\n",
       "2    69.0  75.500624\n",
       "3    30.0  26.786400\n",
       "4    62.0  60.588106\n",
       "5    35.0  39.710582\n",
       "6    24.0  20.821393"
      ]
     },
     "execution_count": 25,
     "metadata": {},
     "output_type": "execute_result"
    }
   ],
   "source": [
    "compr = pd.DataFrame({'Actual': y_val.flatten(), 'Predicted': predict_y.flatten()})\n",
    "compr"
   ]
  },
  {
   "cell_type": "code",
   "execution_count": 26,
   "metadata": {},
   "outputs": [
    {
     "data": {
      "application/javascript": [
       "\n",
       "        if (window._pyforest_update_imports_cell) { window._pyforest_update_imports_cell('import seaborn as sns\\nimport numpy as np\\nimport matplotlib.pyplot as plt\\nimport pandas as pd'); }\n",
       "    "
      ],
      "text/plain": [
       "<IPython.core.display.Javascript object>"
      ]
     },
     "metadata": {},
     "output_type": "display_data"
    },
    {
     "data": {
      "application/javascript": [
       "\n",
       "        if (window._pyforest_update_imports_cell) { window._pyforest_update_imports_cell('import seaborn as sns\\nimport numpy as np\\nimport matplotlib.pyplot as plt\\nimport pandas as pd'); }\n",
       "    "
      ],
      "text/plain": [
       "<IPython.core.display.Javascript object>"
      ]
     },
     "metadata": {},
     "output_type": "display_data"
    },
    {
     "data": {
      "image/png": "[encoded data removed]",
      "text/plain": [
       "<Figure size 1080x360 with 1 Axes>"
      ]
     },
     "metadata": {},
     "output_type": "display_data"
    }
   ],
   "source": [
    "# Graphical representation\n",
    "\n",
    "compr.plot(kind='bar')\n",
    "plt.grid()\n",
    "plt.show()"
   ]
  },
  {
   "cell_type": "markdown",
   "metadata": {},
   "source": [
    "## 5. Score Prediction:\n",
    "\n",
    "We are asked to find out the students' score if he/she studies for 9.25 hours a day"
   ]
  },
  {
   "cell_type": "code",
   "execution_count": 27,
   "metadata": {},
   "outputs": [
    {
     "name": "stdout",
     "output_type": "stream",
     "text": [
      "No of Hours:  [[9.25]]\n",
      "Predicted Score:  [93.89272889]\n"
     ]
    }
   ],
   "source": [
    "hrs = [[9.25]]\n",
    "pred_hrs = regr.predict(hrs)\n",
    "print(\"No of Hours: \", hrs)\n",
    "print(\"Predicted Score: \", pred_hrs[0])\n"
   ]
  },
  {
   "cell_type": "markdown",
   "metadata": {},
   "source": [
    "Let us try our hand at predicting the score for 9.5 hours and see the increase in score"
   ]
  },
  {
   "cell_type": "code",
   "execution_count": 28,
   "metadata": {},
   "outputs": [
    {
     "name": "stdout",
     "output_type": "stream",
     "text": [
      "No of Hours:  [[9.5]]\n",
      "Predicted Score:  [96.37814848]\n"
     ]
    }
   ],
   "source": [
    "# Testing for 9.5 hours of study\n",
    "\n",
    "hrs2 = [[9.5]]\n",
    "pred_hrs2 = regr.predict(hrs2)\n",
    "print(\"No of Hours: \", hrs2)\n",
    "print(\"Predicted Score: \", pred_hrs2[0])\n"
   ]
  },
  {
   "cell_type": "code",
   "execution_count": 29,
   "metadata": {},
   "outputs": [
    {
     "name": "stdout",
     "output_type": "stream",
     "text": [
      "Score increase with 15 minutes more study =  [2.48541958]\n"
     ]
    }
   ],
   "source": [
    "# difference of scores with 15 min increase in study:\n",
    "\n",
    "diff = pred_hrs2-pred_hrs\n",
    "\n",
    "print(\"Score increase with 15 minutes more study = \", diff[0])\n"
   ]
  },
  {
   "cell_type": "markdown",
   "metadata": {},
   "source": [
    "From this predictive analysis of the student scores data using simple linear regression, we have xplained the following\n",
    "\n",
    "* Visualise the **degree of relationship** between the independent and dependent variable\n",
    "* Find out the **coefficient (m)** of the independent variable and the **intercept (c)** for prediction\n",
    "* Evaluated the model's accuracy using **performance metrics**. The best result was given by **MAE = 4.13**\n",
    "* R squared value is found to be 0.936 \n",
    "* **Predicted** the score of the student with 9.25 study hrs/day\n"
   ]
  },
  {
   "cell_type": "markdown",
   "metadata": {},
   "source": [
    "# <center>THE END</center>\n",
    "\n",
    "<center>Project done by Sanju Hyacinth C</center>"
   ]
  }
 ],
 "metadata": {
  "kernelspec": {
   "display_name": "Python 3",
   "language": "python",
   "name": "python3"
  },
  "language_info": {
   "codemirror_mode": {
    "name": "ipython",
    "version": 3
   },
   "file_extension": ".py",
   "mimetype": "text/x-python",
   "name": "python",
   "nbconvert_exporter": "python",
   "pygments_lexer": "ipython3",
   "version": "3.7.6"
  }
 },
 "nbformat": 4,
 "nbformat_minor": 4
}
